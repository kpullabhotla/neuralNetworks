{
  "nbformat": 4,
  "nbformat_minor": 0,
  "metadata": {
    "colab": {
      "name": "Naive_Bayes_Z1891893.ipynb",
      "provenance": [],
      "collapsed_sections": [],
      "include_colab_link": true
    },
    "kernelspec": {
      "name": "python3",
      "display_name": "Python 3"
    },
    "language_info": {
      "name": "python"
    }
  },
  "cells": [
    {
      "cell_type": "markdown",
      "metadata": {
        "id": "view-in-github",
        "colab_type": "text"
      },
      "source": [
        "<a href=\"https://colab.research.google.com/github/kpullabhotla/NeuralNetworks/blob/main/Naive_Bayes.ipynb\" target=\"_parent\"><img src=\"https://colab.research.google.com/assets/colab-badge.svg\" alt=\"Open In Colab\"/></a>"
      ]
    },
    {
      "cell_type": "markdown",
      "metadata": {
        "id": "inQu-a5A3cBp"
      },
      "source": [
        "# Name: KAMESWARA PULLABHOTLA\n",
        "# Z-ID: Z1891893\n",
        "\n",
        "# Assignment - 1"
      ]
    },
    {
      "cell_type": "code",
      "metadata": {
        "colab": {
          "base_uri": "https://localhost:8080/"
        },
        "id": "Dh9a6vwAR5Bn",
        "outputId": "878434f7-3f9b-46dc-9e83-26823b694c29"
      },
      "source": [
        "#####################################\n",
        "# Imports, Cloning Files From GIT Repo\n",
        "######################################\n",
        "from sklearn.metrics import confusion_matrix\n",
        "import numpy as np\n",
        "\n",
        "# Clone git repo\n",
        "! git clone https://github.com/kpullabhotla/dataSets.git"
      ],
      "execution_count": null,
      "outputs": [
        {
          "output_type": "stream",
          "name": "stdout",
          "text": [
            "fatal: destination path 'dataSets' already exists and is not an empty directory.\n"
          ]
        }
      ]
    },
    {
      "cell_type": "code",
      "metadata": {
        "id": "nkaw3eVYw9G8"
      },
      "source": [
        "####################################\n",
        "# Segregating Input Into 28X28 Pixels\n",
        "####################################\n",
        "\n",
        "def seg_list(inp_list):\n",
        "  data = []\n",
        "  final_list = []\n",
        "  n=784\n",
        "  i = 0\n",
        "  \n",
        "  for ele in inp_list:\n",
        "\n",
        "    new_line = ele.replace(\" \",\"0\")\n",
        "    new_line = new_line.replace(\"+\",\"1\")\n",
        "    new_line = new_line.replace(\"#\",\"1\")\n",
        "\n",
        "    data.append(list(new_line[:28]))\n",
        "\n",
        "\n",
        "  flat_map = np.array(list(np.concatenate(data).flat))\n",
        "  flat_list = np.array(list(map(int, flat_map)))\n",
        "  my_new_list = np.array([flat_list[i:i + n] for i in range(0, len(flat_list), n)])\n",
        "  return my_new_list"
      ],
      "execution_count": null,
      "outputs": []
    },
    {
      "cell_type": "code",
      "metadata": {
        "colab": {
          "base_uri": "https://localhost:8080/"
        },
        "id": "NLNZRagcwzVp",
        "outputId": "be22f737-dff8-4b15-f354-e34fe0ccd0f8"
      },
      "source": [
        "#################################\n",
        "# Importing Training & Test Data\n",
        "#################################\n",
        "\n",
        "# Reading training feature data\n",
        "train_file = open(\"/content/dataSets/digitdata/trainingimages.txt\",'r')\n",
        "inp_train_list = (train_file.read()).splitlines()\n",
        "final_train_list = seg_list(inp_train_list)\n",
        "#print(final_train_list.shape,type(final_train_list),len(final_train_list))\n",
        "\n",
        "# Reading training label data\n",
        "train_label_list = np.genfromtxt(\"/content/dataSets/digitdata/traininglabels.txt\",dtype=np.integer)\n",
        "print(train_label_list.shape,type(train_label_list),len(train_label_list))\n",
        "\n",
        "# Reading test feature data\n",
        "test_file = open(\"/content/dataSets/digitdata/testimages.txt\",'r')\n",
        "inp_test_list = (test_file.read()).splitlines()\n",
        "final_test_list = seg_list(inp_test_list)\n",
        "#print(final_test_list.shape,type(final_test_list),len(final_test_list))\n",
        "\n",
        "# Reading test label data\n",
        "test_label_list = np.genfromtxt(\"/content/dataSets/digitdata/testlabels.txt\",dtype=np.integer)\n",
        "#print(test_label_list.shape,type(test_label_list))"
      ],
      "execution_count": null,
      "outputs": [
        {
          "output_type": "stream",
          "name": "stdout",
          "text": [
            "(5000,) <class 'numpy.ndarray'> 5000\n"
          ]
        }
      ]
    },
    {
      "cell_type": "code",
      "metadata": {
        "id": "CXj_r93OAK52"
      },
      "source": [
        "#################################\n",
        "# Calculating prior probability\n",
        "#################################\n",
        "\n",
        "features_per_class={}\n",
        "priors_new ={}\n",
        "\n",
        "for idx,label in enumerate(train_label_list):\n",
        "  count = np.count_nonzero(train_label_list == label)\n",
        "  features_per_class[int(label)] = count\n",
        "  priors_new[int(label)] = np.log(count/len(train_label_list))"
      ],
      "execution_count": null,
      "outputs": []
    },
    {
      "cell_type": "code",
      "metadata": {
        "id": "sqkt_XQFxBFC"
      },
      "source": [
        "#################################\n",
        "# Applying Smoothing\n",
        "#################################\n",
        "\n",
        "import pandas as pd\n",
        "k=1\n",
        "\n",
        "image_df = pd.DataFrame(final_train_list)\n",
        "labels = list(train_label_list)\n",
        "image_df['label'] = labels\n",
        "prob_pixel_count_zero = image_df.count\n",
        "\n",
        "prior_count =  pd.Series(features_per_class)+(2*k)\n",
        "sum_pixel_one_df = k+image_df.groupby(image_df['label']).sum()\n",
        "sum_pixel_one_df = sum_pixel_one_df.div(prior_count,axis=0)\n"
      ],
      "execution_count": null,
      "outputs": []
    },
    {
      "cell_type": "code",
      "metadata": {
        "id": "pf7zj1SFt9cz"
      },
      "source": [
        "#################################\n",
        "# Predicting Test Samples\n",
        "#################################\n",
        "\n",
        "predicted_labels =[]\n",
        "\n",
        "for image_test in final_test_list:\n",
        "  posterior_prob = []\n",
        "  for clas in range(10):\n",
        "    likelihood = 1\n",
        "    for pixel in range(len(image_test)):\n",
        "      if image_test[pixel]==1:\n",
        "        feature_prob = sum_pixel_one_df.iloc[clas,pixel]\n",
        "      else:\n",
        "        feature_prob = 1 - sum_pixel_one_df.iloc[clas,pixel]\n",
        "      likelihood = likelihood*feature_prob\n",
        "    posterior_prob.append(likelihood)\n",
        "  predicted_labels.append(posterior_prob.index(max(posterior_prob)))"
      ],
      "execution_count": null,
      "outputs": []
    },
    {
      "cell_type": "code",
      "metadata": {
        "id": "PRk8iZvGuQvm",
        "colab": {
          "base_uri": "https://localhost:8080/"
        },
        "outputId": "a2b3ffc9-fd1e-46aa-b944-324fc304e7d6"
      },
      "source": [
        "#################################\n",
        "# Building Confusion Matrix (in %'s)\n",
        "#################################\n",
        "\n",
        "conf_matrix = confusion_matrix(test_label_list,predicted_labels)/10\n",
        "\n",
        "print(\"Confusion Matrix For The Given Dataset in (%):\\n\\n\",conf_matrix)"
      ],
      "execution_count": null,
      "outputs": [
        {
          "output_type": "stream",
          "name": "stdout",
          "text": [
            "Confusion Matrix For The Given Dataset in (%):\n",
            "\n",
            " [[ 7.6  0.   0.1  0.   0.1  0.5  0.4  0.   0.3  0. ]\n",
            " [ 0.  10.4  0.1  0.   0.   0.2  0.1  0.   0.   0. ]\n",
            " [ 0.2  0.4  7.6  0.6  0.1  0.   0.6  0.1  0.5  0.2]\n",
            " [ 0.   0.2  0.   8.   0.   0.2  0.2  0.6  0.2  0.6]\n",
            " [ 0.   0.1  0.   0.   8.1  0.   0.3  0.1  0.2  1.9]\n",
            " [ 0.2  0.2  0.1  1.5  0.3  5.9  0.1  0.1  0.2  0.6]\n",
            " [ 0.1  0.6  0.5  0.   0.7  0.5  6.5  0.   0.2  0. ]\n",
            " [ 0.   0.7  0.3  0.   0.3  0.   0.   7.6  0.2  1.5]\n",
            " [ 0.2  0.3  0.3  1.3  0.2  0.5  0.1  0.1  6.2  1.1]\n",
            " [ 0.1  0.2  0.1  0.3  0.9  0.2  0.   0.2  0.1  7.9]]\n"
          ]
        }
      ]
    },
    {
      "cell_type": "code",
      "metadata": {
        "id": "DteFGCMCOpBL",
        "colab": {
          "base_uri": "https://localhost:8080/"
        },
        "outputId": "00e8212b-c319-4d51-8405-f73cfd1aa06e"
      },
      "source": [
        "#################################\n",
        "# Calculating Accuracy\n",
        "#################################\n",
        "\n",
        "predict_values = np.array(predicted_labels)\n",
        "accuracy = predict_values == test_label_list\n",
        "print(\"Percentage of accuracy for the given dataset is: \",accuracy.sum()/10,\"%\")"
      ],
      "execution_count": null,
      "outputs": [
        {
          "output_type": "stream",
          "name": "stdout",
          "text": [
            "Percentage of accuracy for the given dataset is:  75.8 %\n"
          ]
        }
      ]
    },
    {
      "cell_type": "code",
      "metadata": {
        "colab": {
          "base_uri": "https://localhost:8080/"
        },
        "id": "QeNVvZlmnSjL",
        "outputId": "d21904ed-584f-4bc8-aa51-6a8b0f331ae0"
      },
      "source": [
        "########################################\n",
        "# Printing K value\n",
        "#########################################\n",
        "\n",
        "print(\"K value is>> \",k)\n"
      ],
      "execution_count": null,
      "outputs": [
        {
          "output_type": "stream",
          "name": "stdout",
          "text": [
            "K value is>>  7\n"
          ]
        }
      ]
    },
    {
      "cell_type": "code",
      "metadata": {
        "id": "nfs2bnmrUC4X",
        "colab": {
          "base_uri": "https://localhost:8080/"
        },
        "outputId": "8827c5ed-7523-4180-d967-03fd97bb0af3"
      },
      "source": [
        "##########################################\n",
        "# Displaying Predicted With Correct Labels\n",
        "##########################################\n",
        "\n",
        "final_classification = pd.DataFrame(predict_values,test_label_list)\n",
        "SerialNo = np.arange(len(final_classification))\n",
        "\n",
        "final_classification = pd.DataFrame({\"SerialNo\":range(1,1001),\"p\":predict_values,\"q\":test_label_list})\n",
        "print(final_classification)\n"
      ],
      "execution_count": null,
      "outputs": [
        {
          "output_type": "stream",
          "name": "stdout",
          "text": [
            "K value is>>  7\n",
            "     SerialNo  p  q\n",
            "0           1  7  9\n",
            "1           2  0  0\n",
            "2           3  2  2\n",
            "3           4  3  5\n",
            "4           5  1  1\n",
            "..        ... .. ..\n",
            "995       996  0  0\n",
            "996       997  6  6\n",
            "997       998  3  3\n",
            "998       999  9  9\n",
            "999      1000  5  5\n",
            "\n",
            "[1000 rows x 3 columns]\n"
          ]
        }
      ]
    }
  ]
}